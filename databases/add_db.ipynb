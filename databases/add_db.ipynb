{
 "cells": [
  {
   "cell_type": "code",
   "execution_count": null,
   "metadata": {},
   "outputs": [],
   "source": [
    "import sqlite3"
   ]
  },
  {
   "cell_type": "code",
   "execution_count": null,
   "metadata": {},
   "outputs": [],
   "source": [
    "con = sqlite3.connect(\"pokemon.db\")\n",
    "cur = con.cursor()\n",
    "print(con,cur)"
   ]
  },
  {
   "cell_type": "code",
   "execution_count": null,
   "metadata": {},
   "outputs": [],
   "source": [
    "cur"
   ]
  },
  {
   "cell_type": "code",
   "execution_count": 51,
   "metadata": {},
   "outputs": [
    {
     "name": "stdout",
     "output_type": "stream",
     "text": [
      "\n",
      "1. Database Setup: \t'pokemon.db'\n",
      "2. Table Setup: \t'adventurers'\n",
      "3. Tables Existing: \t[('sqlite_sequence',), ('adventurers',)]\n",
      "4. OG Schema 'adventurers': \n",
      "\t\t\tCREATE TABLE adventurers \n",
      "            (id INTEGER PRIMARY KEY AUTOINCREMENT,\n",
      "             name TEXT NOT NULL, \n",
      "             pokemon TEXT NOT NULL, \n",
      "             badges INTEGER\n",
      "            )\n",
      "\n",
      "5. Latest Schema 'adventurers'\n",
      "\t\t\t(0, 'id', 'INTEGER', 0, None, 1)\n",
      "\t\t\t(1, 'name', 'TEXT', 1, None, 0)\n",
      "\t\t\t(2, 'pokemon', 'TEXT', 1, None, 0)\n",
      "\t\t\t(3, 'badges', 'INTEGER', 0, None, 0)\n",
      "\n"
     ]
    }
   ],
   "source": [
    "\n",
    "import sqlite3\n",
    "\n",
    "con = sqlite3.connect(\"pokemon.db\")\n",
    "print()\n",
    "print(f\"1. Database Setup: \\t'pokemon.db'\")\n",
    "\n",
    "with con:\n",
    "    con.execute(\"DROP TABLE IF EXISTS adventurers\")\n",
    "    con.execute(\"\"\"\n",
    "        CREATE TABLE adventurers \n",
    "            (id INTEGER PRIMARY KEY AUTOINCREMENT,\n",
    "             name TEXT NOT NULL, \n",
    "             pokemon TEXT NOT NULL, \n",
    "             badges INTEGER\n",
    "            )\n",
    "    \"\"\")\n",
    "    print(f\"2. Table Setup: \\t'adventurers'\")\n",
    "    \n",
    "    \n",
    "    cur = con.cursor()\n",
    "    res = cur.execute(\"\"\"SELECT name from sqlite_master\"\"\").fetchall()\n",
    "    # print(f\"3. Tables Existing: \\t{res!r}\")\n",
    "    print(f\"3. Tables Existing: \\t{res!r}\")\n",
    "\n",
    "    cur.execute(\"SELECT name, sql FROM sqlite_master WHERE type='table' AND name='adventurers'\")\n",
    "    for name, sql in cur.fetchall():\n",
    "        print(f\"4. OG Schema {name!r}: \\n\\t\\t\\t{sql}\")\n",
    "    print()\n",
    "    \n",
    "    cur.execute(\"PRAGMA table_info(adventurers);\")\n",
    "    print(f\"5. Latest Schema {name!r}\")\n",
    "    for col in cur.fetchall():\n",
    "        print(f\"\\t\\t\\t{col}\")\n",
    "    print()\n",
    "    \n",
    "    \n"
   ]
  },
  {
   "cell_type": "code",
   "execution_count": null,
   "metadata": {},
   "outputs": [
    {
     "name": "stdout",
     "output_type": "stream",
     "text": [
      "[]\n",
      "\n",
      "6. Insert Test Data:\n",
      "\t\t(1, 'ash', 'bulba', None)\n",
      "\t\t(2, 'misty', 'squirt squirt', None)\n",
      "\t\t(3, 'brock', 'geodude', None)\n",
      "\t\t(4, 'ange', 'mateball', None)\n",
      "\t\t(5, 'messi', 'goat', None)\n"
     ]
    }
   ],
   "source": [
    "con = sqlite3.connect(\"pokemon.db\")\n",
    "\n",
    "INPUT_LIST = [\n",
    "    ('brock','geodude'),\n",
    "    ('ange','mateball'),\n",
    "    ('messi','goat'),\n",
    "]\n",
    "\n",
    "with con:\n",
    "    cur = con.cursor()    \n",
    "    \n",
    "    res = cur.execute(\"SELECT * FROM adventurers\").fetchall()\n",
    "    print(res)\n",
    "    \n",
    "    con.execute(\"INSERT INTO adventurers (name, pokemon) VALUES ('ash','bulba')\")\n",
    "    con.execute(\"INSERT INTO adventurers (name, pokemon) VALUES (?,?)\", ('misty','squirt squirt'))    \n",
    "    con.executemany(\"INSERT INTO adventurers (name, pokemon) VALUES (?,?)\", INPUT_LIST)    \n",
    "    \n",
    "    res = cur.execute(\"SELECT * FROM adventurers\").fetchall()\n",
    "    print(f\"\\n6. Insert Test Data:\")\n",
    "    [print(f\"\\t\\t{r}\") for r in res]\n",
    "    "
   ]
  },
  {
   "cell_type": "code",
   "execution_count": null,
   "metadata": {
    "vscode": {
     "languageId": "sql"
    }
   },
   "outputs": [],
   "source": []
  },
  {
   "cell_type": "code",
   "execution_count": null,
   "metadata": {},
   "outputs": [],
   "source": [
    "import sqlite3\n",
    "con = sqlite3.connect(\"tonydb.db\")\n",
    "######## INSERTION ########\n",
    "barca_data = [\n",
    "    (\"busquets\", 12),\n",
    "    (\"villa\", 23),\n",
    "    (\"pedro\", 35),\n",
    "]\n",
    "\n",
    "\n",
    "with con:\n",
    "    cur.execute(\"INSERT INTO users (name, age) VALUES ('tony',69)\")\n",
    "    cur.execute(\"INSERT INTO users (name, age,email) VALUES ('iniesta',50,'iniesta@barca.com')\")\n",
    "    cur.executemany(\"INSERT INTO users (name, age) VALUES(?, ?)\", barca_data)\n",
    "\n",
    "    res = cur.execute(\"SELECT * FROM users\").fetchall()\n",
    "    \n",
    "    # cur.execute(\"INSERT INTO adventurers (name, pokemon) VALUES (?, ?)\", (\"Ash\", \"Pikachu\"))"
   ]
  },
  {
   "cell_type": "code",
   "execution_count": null,
   "metadata": {},
   "outputs": [],
   "source": []
  },
  {
   "cell_type": "code",
   "execution_count": null,
   "metadata": {},
   "outputs": [],
   "source": []
  },
  {
   "cell_type": "code",
   "execution_count": null,
   "metadata": {},
   "outputs": [],
   "source": []
  },
  {
   "cell_type": "code",
   "execution_count": null,
   "metadata": {},
   "outputs": [],
   "source": [
    "######## SELECTION ########\n",
    "con = sqlite3.connect(\"tonydb.db\")\n",
    "with con:\n",
    "    cur = con.cursor()\n",
    "    res = cur.execute(\"SELECT * FROM users\").fetchall() # res.fetchall()"
   ]
  }
 ],
 "metadata": {
  "kernelspec": {
   "display_name": "blog-T-2huGx2",
   "language": "python",
   "name": "python3"
  },
  "language_info": {
   "codemirror_mode": {
    "name": "ipython",
    "version": 3
   },
   "file_extension": ".py",
   "mimetype": "text/x-python",
   "name": "python",
   "nbconvert_exporter": "python",
   "pygments_lexer": "ipython3",
   "version": "3.10.12"
  }
 },
 "nbformat": 4,
 "nbformat_minor": 2
}
